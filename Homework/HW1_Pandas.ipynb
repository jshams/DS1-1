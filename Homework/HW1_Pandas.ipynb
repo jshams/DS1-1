{
 "cells": [
  {
   "cell_type": "markdown",
   "metadata": {},
   "source": [
    "## Write Custom Function to Compute Histogram for a Numerical Array\n",
    "\n",
    "- You can use numpy\n",
    "\n",
    "- Your function takes two arguments: 1- list 2- interval\n",
    "\n",
    "- Your function would return a dictionary with intervals as keys and how many of elements in list are in the intervals as values\n",
    "\n"
   ]
  },
  {
   "cell_type": "code",
   "execution_count": 49,
   "metadata": {},
   "outputs": [],
   "source": [
    "import pandas as pd\n",
    "import numpy as np\n",
    "\n",
    "df = pd.read_csv('../../titanic-data/titanic.csv')"
   ]
  },
  {
   "cell_type": "code",
   "execution_count": 8,
   "metadata": {},
   "outputs": [
    {
     "name": "stdout",
     "output_type": "stream",
     "text": [
      "{'16.0 - 32.0': 345, '32.0 - 48.0': 197, '48.0 - 64.0': 76, '0.0 - 16.0': 83, '64.0 - 80.0': 12, '80.0 - 96.0': 1}\n"
     ]
    }
   ],
   "source": [
    "# histogram function\n",
    "\n",
    "# def custom_hist(ls, interval):\n",
    "#     hist_ls_dict = dict()\n",
    "#     min_ls = np.min(ls)\n",
    "#     max_ls = np.max(ls)\n",
    "#     I = np.ceil((max_ls - min_ls) / interval)\n",
    "#     for j in range(...):\n",
    "#         hist_ls_dict[j]= ...      \n",
    "#     return hist_ls_dict\n",
    "        \n",
    "\n",
    "\n",
    "import math\n",
    "def custom_hist(ls, interval):\n",
    "    value_hist = dict()\n",
    "    for val in ls:\n",
    "        if '{} - {}'.format((val // interval) * interval ,(val // interval) * interval + interval) in value_hist:\n",
    "            value_hist['{} - {}'.format((val // interval) * interval ,(val // interval) * interval + interval)] += 1\n",
    "        else:\n",
    "            value_hist['{} - {}'.format((val // interval) * interval ,(val // interval) * interval + interval)] = 1\n",
    "    return value_hist\n",
    "\n",
    "print(custom_hist(df['Age'].dropna().values, 16))\n"
   ]
  },
  {
   "cell_type": "markdown",
   "metadata": {},
   "source": [
    "## For visualization part, you should elaborate on the following "
   ]
  },
  {
   "cell_type": "code",
   "execution_count": 18,
   "metadata": {},
   "outputs": [
    {
     "data": {
      "text/plain": [
       "<BarContainer object of 6 artists>"
      ]
     },
     "execution_count": 18,
     "metadata": {},
     "output_type": "execute_result"
    },
    {
     "data": {
      "image/png": "[encoded data removed]",
      "text/plain": [
       "<Figure size 432x288 with 1 Axes>"
      ]
     },
     "metadata": {
      "needs_background": "light"
     },
     "output_type": "display_data"
    }
   ],
   "source": [
    "import matplotlib.pyplot as plt\n",
    "\n",
    "hist_dict = custom_hist(df['Age'].dropna().values, 16)\n",
    "sorted_hist_list = sorted(list(zip(hist_dict.keys(), hist_dict.values())))\n",
    "plt.bar([key for key, val in sorted_hist_list], [val for key, val in sorted_hist_list])"
   ]
  },
  {
   "cell_type": "markdown",
   "metadata": {},
   "source": [
    "## Q2: How we can plot histogram of Age for female and male with legend?  "
   ]
  },
  {
   "cell_type": "markdown",
   "metadata": {},
   "source": [
    "Use Pandas with .groupby method and plot the following "
   ]
  },
  {
   "cell_type": "code",
   "execution_count": 141,
   "metadata": {},
   "outputs": [
    {
     "data": {
      "text/plain": [
       "<matplotlib.axes._subplots.AxesSubplot at 0x1a217ade48>"
      ]
     },
     "execution_count": 141,
     "metadata": {},
     "output_type": "execute_result"
    },
    {
     "data": {
      "image/png": "[encoded data removed]",
      "text/plain": [
       "<Figure size 432x288 with 1 Axes>"
      ]
     },
     "metadata": {
      "needs_background": "light"
     },
     "output_type": "display_data"
    }
   ],
   "source": [
    "hist_dict_male = custom_hist(df[df['Sex'] == 'male']['Age'].dropna().values, 16)\n",
    "hist_dict_female = custom_hist(df[df['Sex'] == 'female']['Age'].dropna().values, 16)\n",
    "\n",
    "list_dict_male = sorted(list(zip(hist_dict_male.keys(), hist_dict_male.values())))\n",
    "list_dict_female = sorted(list(zip(hist_dict_female.keys(), hist_dict_female.values())))\n",
    "\n",
    "# mdf = pd.DataFrame(list_dict_male)\n",
    "# fdf = pd.DataFrame(list_dict_female)\n",
    "# mdf[0] \n",
    "# mdf[\"Sex\"] = 'male'\n",
    "# fdf[\"Sex\"] = 'female'\n",
    "\n",
    "# print(mdf)\n",
    "# print()\n",
    "# print(fdf)\n",
    "\n",
    "# zdf = mdf.merge(fdf, how='outer')\n",
    "# print(zdf)\n",
    "\n",
    "# sns.countplot(x=0, hue='Sex', data = zdf)\n",
    "\n",
    "\n",
    "# GROSS BUT IT WORKS!\n",
    "import seaborn as sns\n",
    "\n",
    "arr = []\n",
    "for key, val in list_dict_male:\n",
    "    for i in range(val):\n",
    "        arr.append((key, 'male'))\n",
    "\n",
    "for key, val in list_dict_female:\n",
    "    for i in range(val):\n",
    "        arr.append((key, 'female'))\n",
    "        \n",
    "arrdf = pd.DataFrame(arr)\n",
    "arrdf['age-range'] = arrdf[0]\n",
    "arrdf['Sex'] = arrdf[1]\n",
    "sns.countplot(x='age-range', hue='Sex', data = arrdf)\n"
   ]
  },
  {
   "cell_type": "code",
   "execution_count": null,
   "metadata": {},
   "outputs": [],
   "source": []
  }
 ],
 "metadata": {
  "kernelspec": {
   "display_name": "Python 3",
   "language": "python",
   "name": "python3"
  },
  "language_info": {
   "codemirror_mode": {
    "name": "ipython",
    "version": 3
   },
   "file_extension": ".py",
   "mimetype": "text/x-python",
   "name": "python",
   "nbconvert_exporter": "python",
   "pygments_lexer": "ipython3",
   "version": "3.7.3"
  }
 },
 "nbformat": 4,
 "nbformat_minor": 2
}
